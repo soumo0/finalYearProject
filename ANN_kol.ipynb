{
  "nbformat": 4,
  "nbformat_minor": 0,
  "metadata": {
    "colab": {
      "name": "AQI_kol.ipynb",
      "provenance": [],
      "collapsed_sections": []
    },
    "kernelspec": {
      "name": "python3",
      "display_name": "Python 3"
    },
    "language_info": {
      "name": "python"
    },
    "accelerator": "GPU"
  },
  "cells": [
    {
      "cell_type": "code",
      "execution_count": 2,
      "metadata": {
        "id": "qFnkNoZCFbp1",
        "colab": {
          "base_uri": "https://localhost:8080/",
          "height": 35
        },
        "outputId": "60579c0c-c654-468f-a37d-ad8e21acc58d"
      },
      "outputs": [
        {
          "output_type": "execute_result",
          "data": {
            "text/plain": [
              "'/device:GPU:0'"
            ],
            "application/vnd.google.colaboratory.intrinsic+json": {
              "type": "string"
            }
          },
          "metadata": {},
          "execution_count": 2
        }
      ],
      "source": [
        "import tensorflow as tf\n",
        "tf.test.gpu_device_name()"
      ]
    },
    {
      "cell_type": "code",
      "source": [
        "from tensorflow.python.client import device_lib\n",
        "device_lib.list_local_devices()\n"
      ],
      "metadata": {
        "colab": {
          "base_uri": "https://localhost:8080/"
        },
        "id": "h7Id_Yu2HfST",
        "outputId": "e10fac1b-92ef-4ff3-9140-db99c6f98813"
      },
      "execution_count": 3,
      "outputs": [
        {
          "output_type": "execute_result",
          "data": {
            "text/plain": [
              "[name: \"/device:CPU:0\"\n",
              " device_type: \"CPU\"\n",
              " memory_limit: 268435456\n",
              " locality {\n",
              " }\n",
              " incarnation: 10348571942402530975\n",
              " xla_global_id: -1, name: \"/device:GPU:0\"\n",
              " device_type: \"GPU\"\n",
              " memory_limit: 11320098816\n",
              " locality {\n",
              "   bus_id: 1\n",
              "   links {\n",
              "   }\n",
              " }\n",
              " incarnation: 4615812921358632749\n",
              " physical_device_desc: \"device: 0, name: Tesla K80, pci bus id: 0000:00:04.0, compute capability: 3.7\"\n",
              " xla_global_id: 416903419]"
            ]
          },
          "metadata": {},
          "execution_count": 3
        }
      ]
    },
    {
      "cell_type": "code",
      "source": [
        "!cat /proc/meminfo"
      ],
      "metadata": {
        "colab": {
          "base_uri": "https://localhost:8080/"
        },
        "id": "2zSBzUhMH7iA",
        "outputId": "164154b2-18d0-467b-86ea-a67e413ca02d"
      },
      "execution_count": 4,
      "outputs": [
        {
          "output_type": "stream",
          "name": "stdout",
          "text": [
            "MemTotal:       13302920 kB\n",
            "MemFree:         9294504 kB\n",
            "MemAvailable:   11799116 kB\n",
            "Buffers:          114232 kB\n",
            "Cached:          2407912 kB\n",
            "SwapCached:            0 kB\n",
            "Active:          1563828 kB\n",
            "Inactive:        2131520 kB\n",
            "Active(anon):     990852 kB\n",
            "Inactive(anon):     2516 kB\n",
            "Active(file):     572976 kB\n",
            "Inactive(file):  2129004 kB\n",
            "Unevictable:           0 kB\n",
            "Mlocked:               0 kB\n",
            "SwapTotal:             0 kB\n",
            "SwapFree:              0 kB\n",
            "Dirty:               220 kB\n",
            "Writeback:             0 kB\n",
            "AnonPages:       1173188 kB\n",
            "Mapped:           664380 kB\n",
            "Shmem:              3252 kB\n",
            "KReclaimable:      88212 kB\n",
            "Slab:             142584 kB\n",
            "SReclaimable:      88212 kB\n",
            "SUnreclaim:        54372 kB\n",
            "KernelStack:        5072 kB\n",
            "PageTables:        14248 kB\n",
            "NFS_Unstable:          0 kB\n",
            "Bounce:                0 kB\n",
            "WritebackTmp:          0 kB\n",
            "CommitLimit:     6651460 kB\n",
            "Committed_AS:    3737216 kB\n",
            "VmallocTotal:   34359738367 kB\n",
            "VmallocUsed:       46764 kB\n",
            "VmallocChunk:          0 kB\n",
            "Percpu:             1448 kB\n",
            "AnonHugePages:      2048 kB\n",
            "ShmemHugePages:        0 kB\n",
            "ShmemPmdMapped:        0 kB\n",
            "FileHugePages:         0 kB\n",
            "FilePmdMapped:         0 kB\n",
            "CmaTotal:              0 kB\n",
            "CmaFree:               0 kB\n",
            "HugePages_Total:       0\n",
            "HugePages_Free:        0\n",
            "HugePages_Rsvd:        0\n",
            "HugePages_Surp:        0\n",
            "Hugepagesize:       2048 kB\n",
            "Hugetlb:               0 kB\n",
            "DirectMap4k:      217920 kB\n",
            "DirectMap2M:     7118848 kB\n",
            "DirectMap1G:     8388608 kB\n"
          ]
        }
      ]
    },
    {
      "cell_type": "code",
      "source": [
        "!cat /proc/cpuinfo"
      ],
      "metadata": {
        "colab": {
          "base_uri": "https://localhost:8080/"
        },
        "id": "SezemYsTIO7s",
        "outputId": "8cb10eef-0d31-46e1-8e76-acf5e9cf129b"
      },
      "execution_count": 6,
      "outputs": [
        {
          "output_type": "stream",
          "name": "stdout",
          "text": [
            "processor\t: 0\n",
            "vendor_id\t: GenuineIntel\n",
            "cpu family\t: 6\n",
            "model\t\t: 63\n",
            "model name\t: Intel(R) Xeon(R) CPU @ 2.30GHz\n",
            "stepping\t: 0\n",
            "microcode\t: 0x1\n",
            "cpu MHz\t\t: 2299.998\n",
            "cache size\t: 46080 KB\n",
            "physical id\t: 0\n",
            "siblings\t: 2\n",
            "core id\t\t: 0\n",
            "cpu cores\t: 1\n",
            "apicid\t\t: 0\n",
            "initial apicid\t: 0\n",
            "fpu\t\t: yes\n",
            "fpu_exception\t: yes\n",
            "cpuid level\t: 13\n",
            "wp\t\t: yes\n",
            "flags\t\t: fpu vme de pse tsc msr pae mce cx8 apic sep mtrr pge mca cmov pat pse36 clflush mmx fxsr sse sse2 ss ht syscall nx pdpe1gb rdtscp lm constant_tsc rep_good nopl xtopology nonstop_tsc cpuid tsc_known_freq pni pclmulqdq ssse3 fma cx16 pcid sse4_1 sse4_2 x2apic movbe popcnt aes xsave avx f16c rdrand hypervisor lahf_lm abm invpcid_single ssbd ibrs ibpb stibp fsgsbase tsc_adjust bmi1 avx2 smep bmi2 erms invpcid xsaveopt arat md_clear arch_capabilities\n",
            "bugs\t\t: cpu_meltdown spectre_v1 spectre_v2 spec_store_bypass l1tf mds swapgs\n",
            "bogomips\t: 4599.99\n",
            "clflush size\t: 64\n",
            "cache_alignment\t: 64\n",
            "address sizes\t: 46 bits physical, 48 bits virtual\n",
            "power management:\n",
            "\n",
            "processor\t: 1\n",
            "vendor_id\t: GenuineIntel\n",
            "cpu family\t: 6\n",
            "model\t\t: 63\n",
            "model name\t: Intel(R) Xeon(R) CPU @ 2.30GHz\n",
            "stepping\t: 0\n",
            "microcode\t: 0x1\n",
            "cpu MHz\t\t: 2299.998\n",
            "cache size\t: 46080 KB\n",
            "physical id\t: 0\n",
            "siblings\t: 2\n",
            "core id\t\t: 0\n",
            "cpu cores\t: 1\n",
            "apicid\t\t: 1\n",
            "initial apicid\t: 1\n",
            "fpu\t\t: yes\n",
            "fpu_exception\t: yes\n",
            "cpuid level\t: 13\n",
            "wp\t\t: yes\n",
            "flags\t\t: fpu vme de pse tsc msr pae mce cx8 apic sep mtrr pge mca cmov pat pse36 clflush mmx fxsr sse sse2 ss ht syscall nx pdpe1gb rdtscp lm constant_tsc rep_good nopl xtopology nonstop_tsc cpuid tsc_known_freq pni pclmulqdq ssse3 fma cx16 pcid sse4_1 sse4_2 x2apic movbe popcnt aes xsave avx f16c rdrand hypervisor lahf_lm abm invpcid_single ssbd ibrs ibpb stibp fsgsbase tsc_adjust bmi1 avx2 smep bmi2 erms invpcid xsaveopt arat md_clear arch_capabilities\n",
            "bugs\t\t: cpu_meltdown spectre_v1 spectre_v2 spec_store_bypass l1tf mds swapgs\n",
            "bogomips\t: 4599.99\n",
            "clflush size\t: 64\n",
            "cache_alignment\t: 64\n",
            "address sizes\t: 46 bits physical, 48 bits virtual\n",
            "power management:\n",
            "\n"
          ]
        }
      ]
    },
    {
      "cell_type": "code",
      "source": [
        "!pip install -q keras"
      ],
      "metadata": {
        "id": "YgHHBtMqIb6Z"
      },
      "execution_count": 7,
      "outputs": []
    },
    {
      "cell_type": "code",
      "source": [
        "import pandas as pd"
      ],
      "metadata": {
        "id": "HkHG59zAJVzm"
      },
      "execution_count": 8,
      "outputs": []
    },
    {
      "cell_type": "code",
      "source": [
        "#Importing the dataset \n",
        "df = pd.read_csv('/content/drive/MyDrive/Colab Notebooks/dataset.csv')\n",
        "df"
      ],
      "metadata": {
        "colab": {
          "base_uri": "https://localhost:8080/",
          "height": 424
        },
        "id": "yY4-F3kAJaU1",
        "outputId": "96102ce1-5247-40dd-9a85-11f0633294cc"
      },
      "execution_count": 9,
      "outputs": [
        {
          "output_type": "execute_result",
          "data": {
            "text/plain": [
              "        T2M  T2M_MAX  T2M_MIN  PRECTOTCORR   RH2M  WS50M  WS50M_MAX  \\\n",
              "0     28.29    34.65    23.40         5.95  67.94   5.19       7.70   \n",
              "1     29.12    36.17    23.28         2.08  66.56   5.68       7.59   \n",
              "2     29.19    36.48    23.39         7.67  67.56   5.38       7.50   \n",
              "3     29.26    36.38    23.40         5.68  66.50   5.20       7.64   \n",
              "4     30.48    38.27    24.51         2.63  63.50   5.32       7.64   \n",
              "...     ...      ...      ...          ...    ...    ...        ...   \n",
              "1390  30.02    37.79    24.98         0.05  65.62   6.88       8.09   \n",
              "1391  30.11    38.51    23.83         0.20  65.12   6.16       7.30   \n",
              "1392  30.38    38.89    24.24         0.12  64.62   6.84       8.64   \n",
              "1393  30.98    39.46    25.00         0.32  64.88   6.47       8.62   \n",
              "1394  30.89    38.64    25.47         0.39  67.31   7.35       8.87   \n",
              "\n",
              "      WS50M_MIN  PM2.5  \n",
              "0          2.67  34.49  \n",
              "1          3.39  27.89  \n",
              "2          3.14  21.64  \n",
              "3          3.12  23.07  \n",
              "4          3.66  21.27  \n",
              "...         ...    ...  \n",
              "1390       4.95  23.73  \n",
              "1391       5.41  26.85  \n",
              "1392       5.44  19.72  \n",
              "1393       3.92  11.15  \n",
              "1394       6.25   9.95  \n",
              "\n",
              "[1395 rows x 9 columns]"
            ],
            "text/html": [
              "\n",
              "  <div id=\"df-54b8a1e4-c9ba-4c7c-8bc2-c1dbfe68862d\">\n",
              "    <div class=\"colab-df-container\">\n",
              "      <div>\n",
              "<style scoped>\n",
              "    .dataframe tbody tr th:only-of-type {\n",
              "        vertical-align: middle;\n",
              "    }\n",
              "\n",
              "    .dataframe tbody tr th {\n",
              "        vertical-align: top;\n",
              "    }\n",
              "\n",
              "    .dataframe thead th {\n",
              "        text-align: right;\n",
              "    }\n",
              "</style>\n",
              "<table border=\"1\" class=\"dataframe\">\n",
              "  <thead>\n",
              "    <tr style=\"text-align: right;\">\n",
              "      <th></th>\n",
              "      <th>T2M</th>\n",
              "      <th>T2M_MAX</th>\n",
              "      <th>T2M_MIN</th>\n",
              "      <th>PRECTOTCORR</th>\n",
              "      <th>RH2M</th>\n",
              "      <th>WS50M</th>\n",
              "      <th>WS50M_MAX</th>\n",
              "      <th>WS50M_MIN</th>\n",
              "      <th>PM2.5</th>\n",
              "    </tr>\n",
              "  </thead>\n",
              "  <tbody>\n",
              "    <tr>\n",
              "      <th>0</th>\n",
              "      <td>28.29</td>\n",
              "      <td>34.65</td>\n",
              "      <td>23.40</td>\n",
              "      <td>5.95</td>\n",
              "      <td>67.94</td>\n",
              "      <td>5.19</td>\n",
              "      <td>7.70</td>\n",
              "      <td>2.67</td>\n",
              "      <td>34.49</td>\n",
              "    </tr>\n",
              "    <tr>\n",
              "      <th>1</th>\n",
              "      <td>29.12</td>\n",
              "      <td>36.17</td>\n",
              "      <td>23.28</td>\n",
              "      <td>2.08</td>\n",
              "      <td>66.56</td>\n",
              "      <td>5.68</td>\n",
              "      <td>7.59</td>\n",
              "      <td>3.39</td>\n",
              "      <td>27.89</td>\n",
              "    </tr>\n",
              "    <tr>\n",
              "      <th>2</th>\n",
              "      <td>29.19</td>\n",
              "      <td>36.48</td>\n",
              "      <td>23.39</td>\n",
              "      <td>7.67</td>\n",
              "      <td>67.56</td>\n",
              "      <td>5.38</td>\n",
              "      <td>7.50</td>\n",
              "      <td>3.14</td>\n",
              "      <td>21.64</td>\n",
              "    </tr>\n",
              "    <tr>\n",
              "      <th>3</th>\n",
              "      <td>29.26</td>\n",
              "      <td>36.38</td>\n",
              "      <td>23.40</td>\n",
              "      <td>5.68</td>\n",
              "      <td>66.50</td>\n",
              "      <td>5.20</td>\n",
              "      <td>7.64</td>\n",
              "      <td>3.12</td>\n",
              "      <td>23.07</td>\n",
              "    </tr>\n",
              "    <tr>\n",
              "      <th>4</th>\n",
              "      <td>30.48</td>\n",
              "      <td>38.27</td>\n",
              "      <td>24.51</td>\n",
              "      <td>2.63</td>\n",
              "      <td>63.50</td>\n",
              "      <td>5.32</td>\n",
              "      <td>7.64</td>\n",
              "      <td>3.66</td>\n",
              "      <td>21.27</td>\n",
              "    </tr>\n",
              "    <tr>\n",
              "      <th>...</th>\n",
              "      <td>...</td>\n",
              "      <td>...</td>\n",
              "      <td>...</td>\n",
              "      <td>...</td>\n",
              "      <td>...</td>\n",
              "      <td>...</td>\n",
              "      <td>...</td>\n",
              "      <td>...</td>\n",
              "      <td>...</td>\n",
              "    </tr>\n",
              "    <tr>\n",
              "      <th>1390</th>\n",
              "      <td>30.02</td>\n",
              "      <td>37.79</td>\n",
              "      <td>24.98</td>\n",
              "      <td>0.05</td>\n",
              "      <td>65.62</td>\n",
              "      <td>6.88</td>\n",
              "      <td>8.09</td>\n",
              "      <td>4.95</td>\n",
              "      <td>23.73</td>\n",
              "    </tr>\n",
              "    <tr>\n",
              "      <th>1391</th>\n",
              "      <td>30.11</td>\n",
              "      <td>38.51</td>\n",
              "      <td>23.83</td>\n",
              "      <td>0.20</td>\n",
              "      <td>65.12</td>\n",
              "      <td>6.16</td>\n",
              "      <td>7.30</td>\n",
              "      <td>5.41</td>\n",
              "      <td>26.85</td>\n",
              "    </tr>\n",
              "    <tr>\n",
              "      <th>1392</th>\n",
              "      <td>30.38</td>\n",
              "      <td>38.89</td>\n",
              "      <td>24.24</td>\n",
              "      <td>0.12</td>\n",
              "      <td>64.62</td>\n",
              "      <td>6.84</td>\n",
              "      <td>8.64</td>\n",
              "      <td>5.44</td>\n",
              "      <td>19.72</td>\n",
              "    </tr>\n",
              "    <tr>\n",
              "      <th>1393</th>\n",
              "      <td>30.98</td>\n",
              "      <td>39.46</td>\n",
              "      <td>25.00</td>\n",
              "      <td>0.32</td>\n",
              "      <td>64.88</td>\n",
              "      <td>6.47</td>\n",
              "      <td>8.62</td>\n",
              "      <td>3.92</td>\n",
              "      <td>11.15</td>\n",
              "    </tr>\n",
              "    <tr>\n",
              "      <th>1394</th>\n",
              "      <td>30.89</td>\n",
              "      <td>38.64</td>\n",
              "      <td>25.47</td>\n",
              "      <td>0.39</td>\n",
              "      <td>67.31</td>\n",
              "      <td>7.35</td>\n",
              "      <td>8.87</td>\n",
              "      <td>6.25</td>\n",
              "      <td>9.95</td>\n",
              "    </tr>\n",
              "  </tbody>\n",
              "</table>\n",
              "<p>1395 rows × 9 columns</p>\n",
              "</div>\n",
              "      <button class=\"colab-df-convert\" onclick=\"convertToInteractive('df-54b8a1e4-c9ba-4c7c-8bc2-c1dbfe68862d')\"\n",
              "              title=\"Convert this dataframe to an interactive table.\"\n",
              "              style=\"display:none;\">\n",
              "        \n",
              "  <svg xmlns=\"http://www.w3.org/2000/svg\" height=\"24px\"viewBox=\"0 0 24 24\"\n",
              "       width=\"24px\">\n",
              "    <path d=\"M0 0h24v24H0V0z\" fill=\"none\"/>\n",
              "    <path d=\"M18.56 5.44l.94 2.06.94-2.06 2.06-.94-2.06-.94-.94-2.06-.94 2.06-2.06.94zm-11 1L8.5 8.5l.94-2.06 2.06-.94-2.06-.94L8.5 2.5l-.94 2.06-2.06.94zm10 10l.94 2.06.94-2.06 2.06-.94-2.06-.94-.94-2.06-.94 2.06-2.06.94z\"/><path d=\"M17.41 7.96l-1.37-1.37c-.4-.4-.92-.59-1.43-.59-.52 0-1.04.2-1.43.59L10.3 9.45l-7.72 7.72c-.78.78-.78 2.05 0 2.83L4 21.41c.39.39.9.59 1.41.59.51 0 1.02-.2 1.41-.59l7.78-7.78 2.81-2.81c.8-.78.8-2.07 0-2.86zM5.41 20L4 18.59l7.72-7.72 1.47 1.35L5.41 20z\"/>\n",
              "  </svg>\n",
              "      </button>\n",
              "      \n",
              "  <style>\n",
              "    .colab-df-container {\n",
              "      display:flex;\n",
              "      flex-wrap:wrap;\n",
              "      gap: 12px;\n",
              "    }\n",
              "\n",
              "    .colab-df-convert {\n",
              "      background-color: #E8F0FE;\n",
              "      border: none;\n",
              "      border-radius: 50%;\n",
              "      cursor: pointer;\n",
              "      display: none;\n",
              "      fill: #1967D2;\n",
              "      height: 32px;\n",
              "      padding: 0 0 0 0;\n",
              "      width: 32px;\n",
              "    }\n",
              "\n",
              "    .colab-df-convert:hover {\n",
              "      background-color: #E2EBFA;\n",
              "      box-shadow: 0px 1px 2px rgba(60, 64, 67, 0.3), 0px 1px 3px 1px rgba(60, 64, 67, 0.15);\n",
              "      fill: #174EA6;\n",
              "    }\n",
              "\n",
              "    [theme=dark] .colab-df-convert {\n",
              "      background-color: #3B4455;\n",
              "      fill: #D2E3FC;\n",
              "    }\n",
              "\n",
              "    [theme=dark] .colab-df-convert:hover {\n",
              "      background-color: #434B5C;\n",
              "      box-shadow: 0px 1px 3px 1px rgba(0, 0, 0, 0.15);\n",
              "      filter: drop-shadow(0px 1px 2px rgba(0, 0, 0, 0.3));\n",
              "      fill: #FFFFFF;\n",
              "    }\n",
              "  </style>\n",
              "\n",
              "      <script>\n",
              "        const buttonEl =\n",
              "          document.querySelector('#df-54b8a1e4-c9ba-4c7c-8bc2-c1dbfe68862d button.colab-df-convert');\n",
              "        buttonEl.style.display =\n",
              "          google.colab.kernel.accessAllowed ? 'block' : 'none';\n",
              "\n",
              "        async function convertToInteractive(key) {\n",
              "          const element = document.querySelector('#df-54b8a1e4-c9ba-4c7c-8bc2-c1dbfe68862d');\n",
              "          const dataTable =\n",
              "            await google.colab.kernel.invokeFunction('convertToInteractive',\n",
              "                                                     [key], {});\n",
              "          if (!dataTable) return;\n",
              "\n",
              "          const docLinkHtml = 'Like what you see? Visit the ' +\n",
              "            '<a target=\"_blank\" href=https://colab.research.google.com/notebooks/data_table.ipynb>data table notebook</a>'\n",
              "            + ' to learn more about interactive tables.';\n",
              "          element.innerHTML = '';\n",
              "          dataTable['output_type'] = 'display_data';\n",
              "          await google.colab.output.renderOutput(dataTable, element);\n",
              "          const docLink = document.createElement('div');\n",
              "          docLink.innerHTML = docLinkHtml;\n",
              "          element.appendChild(docLink);\n",
              "        }\n",
              "      </script>\n",
              "    </div>\n",
              "  </div>\n",
              "  "
            ]
          },
          "metadata": {},
          "execution_count": 9
        }
      ]
    },
    {
      "cell_type": "code",
      "source": [
        "import matplotlib.pyplot as plt\n",
        "import seaborn as sns"
      ],
      "metadata": {
        "id": "jWhz2b2wJ1OL"
      },
      "execution_count": 10,
      "outputs": []
    },
    {
      "cell_type": "code",
      "source": [
        "X=df.iloc[:,:-1] ## independent features\n",
        "y=df.iloc[:,-1] ## dependent features"
      ],
      "metadata": {
        "id": "xuMycrHIKLeh"
      },
      "execution_count": 12,
      "outputs": []
    },
    {
      "cell_type": "code",
      "source": [
        "sns.displot(y)"
      ],
      "metadata": {
        "colab": {
          "base_uri": "https://localhost:8080/",
          "height": 387
        },
        "id": "uEQViO4dKTPq",
        "outputId": "7e11bdb3-d414-43e5-eadd-254bb16152d7"
      },
      "execution_count": 13,
      "outputs": [
        {
          "output_type": "execute_result",
          "data": {
            "text/plain": [
              "<seaborn.axisgrid.FacetGrid at 0x7f22e01c43d0>"
            ]
          },
          "metadata": {},
          "execution_count": 13
        },
        {
          "output_type": "display_data",
          "data": {
            "text/plain": [
              "<Figure size 360x360 with 1 Axes>"
            ],
            "image/png": "[encoded data removed]"
          },
          "metadata": {
            "needs_background": "light"
          }
        }
      ]
    },
    {
      "cell_type": "code",
      "source": [
        ""
      ],
      "metadata": {
        "id": "svwL_dX5KYgT"
      },
      "execution_count": null,
      "outputs": []
    },
    {
      "cell_type": "markdown",
      "source": [
        "### Train Test Split"
      ],
      "metadata": {
        "id": "Qi2Y5gtGKcSS"
      }
    },
    {
      "cell_type": "markdown",
      "source": [
        ""
      ],
      "metadata": {
        "id": "hjClTKA-KbpB"
      }
    },
    {
      "cell_type": "code",
      "source": [
        "from sklearn.model_selection import train_test_split\n",
        "X_train, X_test, y_train, y_test = train_test_split(X, y, test_size=0.3, random_state=0)"
      ],
      "metadata": {
        "id": "D642hQ_ZKfyX"
      },
      "execution_count": 14,
      "outputs": []
    },
    {
      "cell_type": "code",
      "source": [
        "# Importing the Keras libraries and packages\n",
        "import keras\n",
        "from keras.models import Sequential\n",
        "from keras.layers import Dense\n",
        "from keras.layers import LeakyReLU,PReLU,ELU\n",
        "from keras.layers import Dropout"
      ],
      "metadata": {
        "id": "stAJsJP6KiD5"
      },
      "execution_count": 15,
      "outputs": []
    },
    {
      "cell_type": "code",
      "source": [
        "NN_model = Sequential()\n",
        "\n",
        "# The Input Layer :\n",
        "NN_model.add(Dense(128, kernel_initializer='normal',input_dim = X_train.shape[1], activation='relu'))\n",
        "\n",
        "# The Hidden Layers :\n",
        "NN_model.add(Dense(256, kernel_initializer='normal',activation='relu'))\n",
        "NN_model.add(Dense(256, kernel_initializer='normal',activation='relu'))\n",
        "NN_model.add(Dense(256, kernel_initializer='normal',activation='relu'))\n",
        "\n",
        "# The Output Layer :\n",
        "NN_model.add(Dense(1, kernel_initializer='normal',activation='linear'))\n",
        "\n",
        "# Compile the network :\n",
        "NN_model.compile(loss='mean_absolute_error', optimizer='adam', metrics=['mean_absolute_error'])\n",
        "NN_model.summary()\n",
        "\n",
        "# Fitting the ANN to the Training set\n",
        "model_history=NN_model.fit(X_train, y_train,validation_split=0.33, batch_size = 10, epochs = 100)\n"
      ],
      "metadata": {
        "colab": {
          "base_uri": "https://localhost:8080/"
        },
        "id": "ae1_vBi9Kk1p",
        "outputId": "26514d71-9cc1-429a-bc1d-e9641f3800f2"
      },
      "execution_count": 17,
      "outputs": [
        {
          "output_type": "stream",
          "name": "stdout",
          "text": [
            "Model: \"sequential_1\"\n",
            "_________________________________________________________________\n",
            " Layer (type)                Output Shape              Param #   \n",
            "=================================================================\n",
            " dense_5 (Dense)             (None, 128)               1152      \n",
            "                                                                 \n",
            " dense_6 (Dense)             (None, 256)               33024     \n",
            "                                                                 \n",
            " dense_7 (Dense)             (None, 256)               65792     \n",
            "                                                                 \n",
            " dense_8 (Dense)             (None, 256)               65792     \n",
            "                                                                 \n",
            " dense_9 (Dense)             (None, 1)                 257       \n",
            "                                                                 \n",
            "=================================================================\n",
            "Total params: 166,017\n",
            "Trainable params: 166,017\n",
            "Non-trainable params: 0\n",
            "_________________________________________________________________\n",
            "Epoch 1/100\n",
            "66/66 [==============================] - 3s 8ms/step - loss: 37.6500 - mean_absolute_error: 37.6500 - val_loss: 27.6159 - val_mean_absolute_error: 27.6159\n",
            "Epoch 2/100\n",
            "66/66 [==============================] - 0s 6ms/step - loss: 25.6575 - mean_absolute_error: 25.6575 - val_loss: 21.0984 - val_mean_absolute_error: 21.0984\n",
            "Epoch 3/100\n",
            "66/66 [==============================] - 0s 6ms/step - loss: 21.6160 - mean_absolute_error: 21.6160 - val_loss: 16.7814 - val_mean_absolute_error: 16.7814\n",
            "Epoch 4/100\n",
            "66/66 [==============================] - 0s 5ms/step - loss: 19.3080 - mean_absolute_error: 19.3080 - val_loss: 22.8694 - val_mean_absolute_error: 22.8694\n",
            "Epoch 5/100\n",
            "66/66 [==============================] - 0s 6ms/step - loss: 21.6008 - mean_absolute_error: 21.6008 - val_loss: 18.6922 - val_mean_absolute_error: 18.6922\n",
            "Epoch 6/100\n",
            "66/66 [==============================] - 0s 6ms/step - loss: 19.3206 - mean_absolute_error: 19.3206 - val_loss: 16.2933 - val_mean_absolute_error: 16.2933\n",
            "Epoch 7/100\n",
            "66/66 [==============================] - 0s 6ms/step - loss: 18.8711 - mean_absolute_error: 18.8711 - val_loss: 16.8112 - val_mean_absolute_error: 16.8112\n",
            "Epoch 8/100\n",
            "66/66 [==============================] - 0s 6ms/step - loss: 18.0427 - mean_absolute_error: 18.0427 - val_loss: 15.7664 - val_mean_absolute_error: 15.7664\n",
            "Epoch 9/100\n",
            "66/66 [==============================] - 0s 5ms/step - loss: 17.6923 - mean_absolute_error: 17.6923 - val_loss: 15.7440 - val_mean_absolute_error: 15.7440\n",
            "Epoch 10/100\n",
            "66/66 [==============================] - 0s 6ms/step - loss: 18.2386 - mean_absolute_error: 18.2386 - val_loss: 15.2994 - val_mean_absolute_error: 15.2994\n",
            "Epoch 11/100\n",
            "66/66 [==============================] - 0s 5ms/step - loss: 18.0794 - mean_absolute_error: 18.0794 - val_loss: 17.3735 - val_mean_absolute_error: 17.3735\n",
            "Epoch 12/100\n",
            "66/66 [==============================] - 0s 5ms/step - loss: 17.6046 - mean_absolute_error: 17.6046 - val_loss: 16.6549 - val_mean_absolute_error: 16.6549\n",
            "Epoch 13/100\n",
            "66/66 [==============================] - 0s 6ms/step - loss: 17.6947 - mean_absolute_error: 17.6947 - val_loss: 15.4857 - val_mean_absolute_error: 15.4857\n",
            "Epoch 14/100\n",
            "66/66 [==============================] - 0s 5ms/step - loss: 17.0468 - mean_absolute_error: 17.0468 - val_loss: 17.2930 - val_mean_absolute_error: 17.2930\n",
            "Epoch 15/100\n",
            "66/66 [==============================] - 0s 5ms/step - loss: 17.1403 - mean_absolute_error: 17.1403 - val_loss: 15.6993 - val_mean_absolute_error: 15.6993\n",
            "Epoch 16/100\n",
            "66/66 [==============================] - 0s 6ms/step - loss: 18.2433 - mean_absolute_error: 18.2433 - val_loss: 14.9612 - val_mean_absolute_error: 14.9612\n",
            "Epoch 17/100\n",
            "66/66 [==============================] - 0s 6ms/step - loss: 17.3101 - mean_absolute_error: 17.3101 - val_loss: 15.0885 - val_mean_absolute_error: 15.0885\n",
            "Epoch 18/100\n",
            "66/66 [==============================] - 0s 5ms/step - loss: 18.6307 - mean_absolute_error: 18.6307 - val_loss: 16.0324 - val_mean_absolute_error: 16.0324\n",
            "Epoch 19/100\n",
            "66/66 [==============================] - 0s 5ms/step - loss: 17.6324 - mean_absolute_error: 17.6324 - val_loss: 14.9032 - val_mean_absolute_error: 14.9032\n",
            "Epoch 20/100\n",
            "66/66 [==============================] - 0s 5ms/step - loss: 17.2757 - mean_absolute_error: 17.2757 - val_loss: 15.0739 - val_mean_absolute_error: 15.0739\n",
            "Epoch 21/100\n",
            "66/66 [==============================] - 0s 5ms/step - loss: 17.3418 - mean_absolute_error: 17.3418 - val_loss: 15.0188 - val_mean_absolute_error: 15.0188\n",
            "Epoch 22/100\n",
            "66/66 [==============================] - 0s 6ms/step - loss: 17.0433 - mean_absolute_error: 17.0433 - val_loss: 14.9443 - val_mean_absolute_error: 14.9443\n",
            "Epoch 23/100\n",
            "66/66 [==============================] - 0s 5ms/step - loss: 17.9803 - mean_absolute_error: 17.9803 - val_loss: 17.5944 - val_mean_absolute_error: 17.5944\n",
            "Epoch 24/100\n",
            "66/66 [==============================] - 0s 5ms/step - loss: 18.1909 - mean_absolute_error: 18.1909 - val_loss: 15.4120 - val_mean_absolute_error: 15.4120\n",
            "Epoch 25/100\n",
            "66/66 [==============================] - 0s 5ms/step - loss: 17.2772 - mean_absolute_error: 17.2772 - val_loss: 16.5841 - val_mean_absolute_error: 16.5841\n",
            "Epoch 26/100\n",
            "66/66 [==============================] - 0s 5ms/step - loss: 18.4171 - mean_absolute_error: 18.4171 - val_loss: 15.7108 - val_mean_absolute_error: 15.7108\n",
            "Epoch 27/100\n",
            "66/66 [==============================] - 0s 5ms/step - loss: 17.4616 - mean_absolute_error: 17.4616 - val_loss: 15.0859 - val_mean_absolute_error: 15.0859\n",
            "Epoch 28/100\n",
            "66/66 [==============================] - 0s 5ms/step - loss: 17.2362 - mean_absolute_error: 17.2362 - val_loss: 15.3471 - val_mean_absolute_error: 15.3471\n",
            "Epoch 29/100\n",
            "66/66 [==============================] - 0s 6ms/step - loss: 17.2189 - mean_absolute_error: 17.2189 - val_loss: 16.5900 - val_mean_absolute_error: 16.5900\n",
            "Epoch 30/100\n",
            "66/66 [==============================] - 0s 5ms/step - loss: 16.7830 - mean_absolute_error: 16.7830 - val_loss: 14.9455 - val_mean_absolute_error: 14.9455\n",
            "Epoch 31/100\n",
            "66/66 [==============================] - 0s 5ms/step - loss: 18.5928 - mean_absolute_error: 18.5928 - val_loss: 14.8653 - val_mean_absolute_error: 14.8653\n",
            "Epoch 32/100\n",
            "66/66 [==============================] - 0s 6ms/step - loss: 16.1840 - mean_absolute_error: 16.1840 - val_loss: 16.3735 - val_mean_absolute_error: 16.3735\n",
            "Epoch 33/100\n",
            "66/66 [==============================] - 0s 6ms/step - loss: 16.3126 - mean_absolute_error: 16.3126 - val_loss: 14.8879 - val_mean_absolute_error: 14.8879\n",
            "Epoch 34/100\n",
            "66/66 [==============================] - 0s 5ms/step - loss: 18.4226 - mean_absolute_error: 18.4226 - val_loss: 16.0851 - val_mean_absolute_error: 16.0851\n",
            "Epoch 35/100\n",
            "66/66 [==============================] - 0s 5ms/step - loss: 16.9011 - mean_absolute_error: 16.9011 - val_loss: 18.2077 - val_mean_absolute_error: 18.2077\n",
            "Epoch 36/100\n",
            "66/66 [==============================] - 0s 5ms/step - loss: 17.1058 - mean_absolute_error: 17.1058 - val_loss: 15.2701 - val_mean_absolute_error: 15.2701\n",
            "Epoch 37/100\n",
            "66/66 [==============================] - 0s 5ms/step - loss: 16.8764 - mean_absolute_error: 16.8764 - val_loss: 16.1007 - val_mean_absolute_error: 16.1007\n",
            "Epoch 38/100\n",
            "66/66 [==============================] - 0s 5ms/step - loss: 16.2250 - mean_absolute_error: 16.2250 - val_loss: 15.6787 - val_mean_absolute_error: 15.6787\n",
            "Epoch 39/100\n",
            "66/66 [==============================] - 0s 6ms/step - loss: 16.8073 - mean_absolute_error: 16.8073 - val_loss: 14.6035 - val_mean_absolute_error: 14.6035\n",
            "Epoch 40/100\n",
            "66/66 [==============================] - 0s 5ms/step - loss: 16.3350 - mean_absolute_error: 16.3350 - val_loss: 14.7533 - val_mean_absolute_error: 14.7533\n",
            "Epoch 41/100\n",
            "66/66 [==============================] - 0s 5ms/step - loss: 16.6798 - mean_absolute_error: 16.6798 - val_loss: 14.8697 - val_mean_absolute_error: 14.8697\n",
            "Epoch 42/100\n",
            "66/66 [==============================] - 0s 5ms/step - loss: 16.9756 - mean_absolute_error: 16.9756 - val_loss: 16.8232 - val_mean_absolute_error: 16.8232\n",
            "Epoch 43/100\n",
            "66/66 [==============================] - 0s 5ms/step - loss: 17.0300 - mean_absolute_error: 17.0300 - val_loss: 15.2246 - val_mean_absolute_error: 15.2246\n",
            "Epoch 44/100\n",
            "66/66 [==============================] - 0s 6ms/step - loss: 17.0422 - mean_absolute_error: 17.0422 - val_loss: 14.7248 - val_mean_absolute_error: 14.7248\n",
            "Epoch 45/100\n",
            "66/66 [==============================] - 0s 5ms/step - loss: 16.2357 - mean_absolute_error: 16.2357 - val_loss: 17.0796 - val_mean_absolute_error: 17.0796\n",
            "Epoch 46/100\n",
            "66/66 [==============================] - 0s 5ms/step - loss: 16.5991 - mean_absolute_error: 16.5991 - val_loss: 14.9010 - val_mean_absolute_error: 14.9010\n",
            "Epoch 47/100\n",
            "66/66 [==============================] - 0s 6ms/step - loss: 16.8061 - mean_absolute_error: 16.8061 - val_loss: 16.5549 - val_mean_absolute_error: 16.5549\n",
            "Epoch 48/100\n",
            "66/66 [==============================] - 0s 5ms/step - loss: 16.2613 - mean_absolute_error: 16.2613 - val_loss: 20.3662 - val_mean_absolute_error: 20.3662\n",
            "Epoch 49/100\n",
            "66/66 [==============================] - 0s 5ms/step - loss: 16.6733 - mean_absolute_error: 16.6733 - val_loss: 14.4867 - val_mean_absolute_error: 14.4867\n",
            "Epoch 50/100\n",
            "66/66 [==============================] - 0s 5ms/step - loss: 16.1856 - mean_absolute_error: 16.1856 - val_loss: 14.8003 - val_mean_absolute_error: 14.8003\n",
            "Epoch 51/100\n",
            "66/66 [==============================] - 0s 5ms/step - loss: 16.5984 - mean_absolute_error: 16.5984 - val_loss: 14.9519 - val_mean_absolute_error: 14.9519\n",
            "Epoch 52/100\n",
            "66/66 [==============================] - 0s 6ms/step - loss: 17.1099 - mean_absolute_error: 17.1099 - val_loss: 15.4228 - val_mean_absolute_error: 15.4228\n",
            "Epoch 53/100\n",
            "66/66 [==============================] - 0s 5ms/step - loss: 17.4041 - mean_absolute_error: 17.4041 - val_loss: 15.3436 - val_mean_absolute_error: 15.3436\n",
            "Epoch 54/100\n",
            "66/66 [==============================] - 0s 5ms/step - loss: 16.5428 - mean_absolute_error: 16.5428 - val_loss: 18.3334 - val_mean_absolute_error: 18.3334\n",
            "Epoch 55/100\n",
            "66/66 [==============================] - 0s 5ms/step - loss: 16.9330 - mean_absolute_error: 16.9330 - val_loss: 14.7328 - val_mean_absolute_error: 14.7328\n",
            "Epoch 56/100\n",
            "66/66 [==============================] - 0s 5ms/step - loss: 16.1404 - mean_absolute_error: 16.1404 - val_loss: 16.0932 - val_mean_absolute_error: 16.0932\n",
            "Epoch 57/100\n",
            "66/66 [==============================] - 0s 7ms/step - loss: 16.7843 - mean_absolute_error: 16.7843 - val_loss: 15.6765 - val_mean_absolute_error: 15.6765\n",
            "Epoch 58/100\n",
            "66/66 [==============================] - 0s 5ms/step - loss: 16.1533 - mean_absolute_error: 16.1533 - val_loss: 14.8961 - val_mean_absolute_error: 14.8961\n",
            "Epoch 59/100\n",
            "66/66 [==============================] - 0s 6ms/step - loss: 16.0018 - mean_absolute_error: 16.0018 - val_loss: 14.9558 - val_mean_absolute_error: 14.9558\n",
            "Epoch 60/100\n",
            "66/66 [==============================] - 0s 6ms/step - loss: 15.8246 - mean_absolute_error: 15.8246 - val_loss: 16.3829 - val_mean_absolute_error: 16.3829\n",
            "Epoch 61/100\n",
            "66/66 [==============================] - 0s 6ms/step - loss: 15.4616 - mean_absolute_error: 15.4616 - val_loss: 16.1142 - val_mean_absolute_error: 16.1142\n",
            "Epoch 62/100\n",
            "66/66 [==============================] - 0s 5ms/step - loss: 16.2945 - mean_absolute_error: 16.2945 - val_loss: 14.4272 - val_mean_absolute_error: 14.4272\n",
            "Epoch 63/100\n",
            "66/66 [==============================] - 0s 5ms/step - loss: 16.1267 - mean_absolute_error: 16.1267 - val_loss: 14.7459 - val_mean_absolute_error: 14.7459\n",
            "Epoch 64/100\n",
            "66/66 [==============================] - 0s 6ms/step - loss: 16.0409 - mean_absolute_error: 16.0409 - val_loss: 14.9079 - val_mean_absolute_error: 14.9079\n",
            "Epoch 65/100\n",
            "66/66 [==============================] - 0s 5ms/step - loss: 16.4119 - mean_absolute_error: 16.4119 - val_loss: 14.6593 - val_mean_absolute_error: 14.6593\n",
            "Epoch 66/100\n",
            "66/66 [==============================] - 0s 5ms/step - loss: 16.4310 - mean_absolute_error: 16.4310 - val_loss: 14.5864 - val_mean_absolute_error: 14.5864\n",
            "Epoch 67/100\n",
            "66/66 [==============================] - 0s 6ms/step - loss: 15.5981 - mean_absolute_error: 15.5981 - val_loss: 14.5255 - val_mean_absolute_error: 14.5255\n",
            "Epoch 68/100\n",
            "66/66 [==============================] - 0s 5ms/step - loss: 15.7255 - mean_absolute_error: 15.7255 - val_loss: 16.2578 - val_mean_absolute_error: 16.2578\n",
            "Epoch 69/100\n",
            "66/66 [==============================] - 0s 5ms/step - loss: 15.8093 - mean_absolute_error: 15.8093 - val_loss: 14.8653 - val_mean_absolute_error: 14.8653\n",
            "Epoch 70/100\n",
            "66/66 [==============================] - 0s 5ms/step - loss: 15.4253 - mean_absolute_error: 15.4253 - val_loss: 17.1603 - val_mean_absolute_error: 17.1603\n",
            "Epoch 71/100\n",
            "66/66 [==============================] - 0s 6ms/step - loss: 16.2922 - mean_absolute_error: 16.2922 - val_loss: 15.4380 - val_mean_absolute_error: 15.4380\n",
            "Epoch 72/100\n",
            "66/66 [==============================] - 0s 6ms/step - loss: 16.8636 - mean_absolute_error: 16.8636 - val_loss: 14.7568 - val_mean_absolute_error: 14.7568\n",
            "Epoch 73/100\n",
            "66/66 [==============================] - 0s 6ms/step - loss: 15.6409 - mean_absolute_error: 15.6409 - val_loss: 14.7849 - val_mean_absolute_error: 14.7849\n",
            "Epoch 74/100\n",
            "66/66 [==============================] - 0s 6ms/step - loss: 15.6938 - mean_absolute_error: 15.6938 - val_loss: 15.1221 - val_mean_absolute_error: 15.1221\n",
            "Epoch 75/100\n",
            "66/66 [==============================] - 0s 5ms/step - loss: 15.3978 - mean_absolute_error: 15.3978 - val_loss: 17.3486 - val_mean_absolute_error: 17.3486\n",
            "Epoch 76/100\n",
            "66/66 [==============================] - 0s 5ms/step - loss: 16.1459 - mean_absolute_error: 16.1459 - val_loss: 15.7699 - val_mean_absolute_error: 15.7699\n",
            "Epoch 77/100\n",
            "66/66 [==============================] - 0s 5ms/step - loss: 16.5217 - mean_absolute_error: 16.5217 - val_loss: 15.2856 - val_mean_absolute_error: 15.2856\n",
            "Epoch 78/100\n",
            "66/66 [==============================] - 0s 5ms/step - loss: 15.5241 - mean_absolute_error: 15.5241 - val_loss: 14.6927 - val_mean_absolute_error: 14.6927\n",
            "Epoch 79/100\n",
            "66/66 [==============================] - 0s 6ms/step - loss: 16.1144 - mean_absolute_error: 16.1144 - val_loss: 14.9496 - val_mean_absolute_error: 14.9496\n",
            "Epoch 80/100\n",
            "66/66 [==============================] - 0s 5ms/step - loss: 15.4380 - mean_absolute_error: 15.4380 - val_loss: 14.9909 - val_mean_absolute_error: 14.9909\n",
            "Epoch 81/100\n",
            "66/66 [==============================] - 0s 5ms/step - loss: 16.0414 - mean_absolute_error: 16.0414 - val_loss: 14.7763 - val_mean_absolute_error: 14.7763\n",
            "Epoch 82/100\n",
            "66/66 [==============================] - 0s 6ms/step - loss: 15.6586 - mean_absolute_error: 15.6586 - val_loss: 19.3468 - val_mean_absolute_error: 19.3468\n",
            "Epoch 83/100\n",
            "66/66 [==============================] - 0s 6ms/step - loss: 15.7486 - mean_absolute_error: 15.7486 - val_loss: 14.9858 - val_mean_absolute_error: 14.9858\n",
            "Epoch 84/100\n",
            "66/66 [==============================] - 0s 6ms/step - loss: 15.3951 - mean_absolute_error: 15.3951 - val_loss: 15.8917 - val_mean_absolute_error: 15.8917\n",
            "Epoch 85/100\n",
            "66/66 [==============================] - 0s 6ms/step - loss: 16.1970 - mean_absolute_error: 16.1970 - val_loss: 17.0223 - val_mean_absolute_error: 17.0223\n",
            "Epoch 86/100\n",
            "66/66 [==============================] - 0s 5ms/step - loss: 16.0904 - mean_absolute_error: 16.0904 - val_loss: 15.4687 - val_mean_absolute_error: 15.4687\n",
            "Epoch 87/100\n",
            "66/66 [==============================] - 0s 7ms/step - loss: 15.6319 - mean_absolute_error: 15.6319 - val_loss: 14.6413 - val_mean_absolute_error: 14.6413\n",
            "Epoch 88/100\n",
            "66/66 [==============================] - 0s 6ms/step - loss: 15.7146 - mean_absolute_error: 15.7146 - val_loss: 15.5775 - val_mean_absolute_error: 15.5775\n",
            "Epoch 89/100\n",
            "66/66 [==============================] - 0s 5ms/step - loss: 15.6456 - mean_absolute_error: 15.6456 - val_loss: 14.7043 - val_mean_absolute_error: 14.7043\n",
            "Epoch 90/100\n",
            "66/66 [==============================] - 0s 5ms/step - loss: 16.0752 - mean_absolute_error: 16.0752 - val_loss: 16.3024 - val_mean_absolute_error: 16.3024\n",
            "Epoch 91/100\n",
            "66/66 [==============================] - 0s 6ms/step - loss: 15.3605 - mean_absolute_error: 15.3605 - val_loss: 15.3971 - val_mean_absolute_error: 15.3971\n",
            "Epoch 92/100\n",
            "66/66 [==============================] - 0s 6ms/step - loss: 15.7790 - mean_absolute_error: 15.7790 - val_loss: 16.6398 - val_mean_absolute_error: 16.6398\n",
            "Epoch 93/100\n",
            "66/66 [==============================] - 0s 6ms/step - loss: 15.2663 - mean_absolute_error: 15.2663 - val_loss: 14.6394 - val_mean_absolute_error: 14.6394\n",
            "Epoch 94/100\n",
            "66/66 [==============================] - 0s 5ms/step - loss: 15.3030 - mean_absolute_error: 15.3030 - val_loss: 14.9717 - val_mean_absolute_error: 14.9717\n",
            "Epoch 95/100\n",
            "66/66 [==============================] - 0s 5ms/step - loss: 15.3113 - mean_absolute_error: 15.3113 - val_loss: 15.0356 - val_mean_absolute_error: 15.0356\n",
            "Epoch 96/100\n",
            "66/66 [==============================] - 0s 6ms/step - loss: 15.3535 - mean_absolute_error: 15.3535 - val_loss: 15.2870 - val_mean_absolute_error: 15.2870\n",
            "Epoch 97/100\n",
            "66/66 [==============================] - 0s 5ms/step - loss: 15.6649 - mean_absolute_error: 15.6649 - val_loss: 15.4643 - val_mean_absolute_error: 15.4643\n",
            "Epoch 98/100\n",
            "66/66 [==============================] - 0s 5ms/step - loss: 16.1348 - mean_absolute_error: 16.1348 - val_loss: 15.3108 - val_mean_absolute_error: 15.3108\n",
            "Epoch 99/100\n",
            "66/66 [==============================] - 0s 5ms/step - loss: 15.5480 - mean_absolute_error: 15.5480 - val_loss: 14.8533 - val_mean_absolute_error: 14.8533\n",
            "Epoch 100/100\n",
            "66/66 [==============================] - 0s 5ms/step - loss: 15.4454 - mean_absolute_error: 15.4454 - val_loss: 15.9464 - val_mean_absolute_error: 15.9464\n"
          ]
        }
      ]
    },
    {
      "cell_type": "code",
      "source": [
        ""
      ],
      "metadata": {
        "id": "roVtJLq1KokJ"
      },
      "execution_count": null,
      "outputs": []
    },
    {
      "cell_type": "markdown",
      "source": [
        "### Model Evaluation"
      ],
      "metadata": {
        "id": "mchUNGFFLY59"
      }
    },
    {
      "cell_type": "code",
      "source": [
        "prediction=NN_model.predict(X_test)"
      ],
      "metadata": {
        "id": "EywgldMOLbhi"
      },
      "execution_count": 18,
      "outputs": []
    },
    {
      "cell_type": "code",
      "source": [
        "y_test"
      ],
      "metadata": {
        "colab": {
          "base_uri": "https://localhost:8080/"
        },
        "id": "F0UwJ4wlLfnJ",
        "outputId": "9d3d0143-fcda-40b1-ddc3-b1147b1cabfc"
      },
      "execution_count": 19,
      "outputs": [
        {
          "output_type": "execute_result",
          "data": {
            "text/plain": [
              "152      41.91\n",
              "198      54.26\n",
              "1182     30.56\n",
              "426      38.73\n",
              "142      99.69\n",
              "         ...  \n",
              "1259     71.98\n",
              "349      44.70\n",
              "930     120.44\n",
              "371      24.24\n",
              "831      12.04\n",
              "Name: PM2.5, Length: 419, dtype: float64"
            ]
          },
          "metadata": {},
          "execution_count": 19
        }
      ]
    },
    {
      "cell_type": "code",
      "source": [
        "sns.distplot(y_test.values.reshape(-1,1)-prediction)"
      ],
      "metadata": {
        "colab": {
          "base_uri": "https://localhost:8080/",
          "height": 339
        },
        "id": "XduzwZ_iLhmq",
        "outputId": "d16c01d9-33e3-41c2-ca26-4098f1875ccf"
      },
      "execution_count": 20,
      "outputs": [
        {
          "output_type": "stream",
          "name": "stderr",
          "text": [
            "/usr/local/lib/python3.7/dist-packages/seaborn/distributions.py:2619: FutureWarning: `distplot` is a deprecated function and will be removed in a future version. Please adapt your code to use either `displot` (a figure-level function with similar flexibility) or `histplot` (an axes-level function for histograms).\n",
            "  warnings.warn(msg, FutureWarning)\n"
          ]
        },
        {
          "output_type": "execute_result",
          "data": {
            "text/plain": [
              "<matplotlib.axes._subplots.AxesSubplot at 0x7f226cd7e250>"
            ]
          },
          "metadata": {},
          "execution_count": 20
        },
        {
          "output_type": "display_data",
          "data": {
            "text/plain": [
              "<Figure size 432x288 with 1 Axes>"
            ],
            "image/png": "[encoded data removed]"
          },
          "metadata": {
            "needs_background": "light"
          }
        }
      ]
    },
    {
      "cell_type": "code",
      "source": [
        "plt.scatter(y_test,prediction)"
      ],
      "metadata": {
        "colab": {
          "base_uri": "https://localhost:8080/",
          "height": 283
        },
        "id": "6tKKqeKALlLR",
        "outputId": "a7a890f6-61f6-4ebb-de26-e73b14e07772"
      },
      "execution_count": 21,
      "outputs": [
        {
          "output_type": "execute_result",
          "data": {
            "text/plain": [
              "<matplotlib.collections.PathCollection at 0x7f226cc568d0>"
            ]
          },
          "metadata": {},
          "execution_count": 21
        },
        {
          "output_type": "display_data",
          "data": {
            "text/plain": [
              "<Figure size 432x288 with 1 Axes>"
            ],
            "image/png": "[encoded data removed]"
          },
          "metadata": {
            "needs_background": "light"
          }
        }
      ]
    },
    {
      "cell_type": "code",
      "source": [
        "import numpy as np\n",
        "from sklearn import metrics\n",
        "print('MAE:', metrics.mean_absolute_error(y_test, prediction))\n",
        "print('MSE:', metrics.mean_squared_error(y_test, prediction))\n",
        "print('RMSE:', np.sqrt(metrics.mean_squared_error(y_test, prediction)))"
      ],
      "metadata": {
        "colab": {
          "base_uri": "https://localhost:8080/"
        },
        "id": "Cfa2NXu8LnvB",
        "outputId": "08e27d1c-164c-4c95-d89b-38b6da111e63"
      },
      "execution_count": 23,
      "outputs": [
        {
          "output_type": "stream",
          "name": "stdout",
          "text": [
            "MAE: 18.11388440088896\n",
            "MSE: 780.3383420709044\n",
            "RMSE: 27.93453672554647\n"
          ]
        }
      ]
    },
    {
      "cell_type": "code",
      "source": [
        ""
      ],
      "metadata": {
        "id": "NQ-qNdgwLrCB"
      },
      "execution_count": null,
      "outputs": []
    }
  ]
}